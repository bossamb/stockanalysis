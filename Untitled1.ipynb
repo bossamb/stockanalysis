{
 "cells": [
  {
   "cell_type": "code",
   "execution_count": 3,
   "id": "4bb4774e-e0e3-48d5-b606-676c8773c775",
   "metadata": {},
   "outputs": [
    {
     "name": "stdin",
     "output_type": "stream",
     "text": [
      " 삼성전자\n"
     ]
    },
    {
     "data": {
      "image/png": "[encoded data removed]",
      "text/plain": [
       "<Figure size 432x288 with 1 Axes>"
      ]
     },
     "metadata": {
      "needs_background": "light"
     },
     "output_type": "display_data"
    }
   ],
   "source": [
    "import telegram\n",
    "from telegram.ext import Updater, MessageHandler, CommandHandler, ConversationHandler, Filters\n",
    "from telegram import ChatAction, InlineKeyboardButton, InlineKeyboardMarkup\n",
    "import logging\n",
    "import time\n",
    "from bs4 import BeautifulSoup as bs\n",
    "from selenium import webdriver\n",
    "import requests\n",
    "import datetime\n",
    "import pandas_datareader.data as pdweb\n",
    "from pandas_datareader import data as pdr\n",
    "import seaborn as sns\n",
    "import matplotlib.pyplot as plt\n",
    "# plt.switch_backend('Agg') # to resolve NSException error\n",
    "from matplotlib.ticker import FormatStrFormatter\n",
    "\n",
    "\n",
    "STOCK_NAME = 0\n",
    "logging.basicConfig(\n",
    "    format='%(asctime)s - %(name)s - %(levelname)s - %(message)s', level=logging.INFO\n",
    ")\n",
    "logger = logging.getLogger(__name__)\n",
    "\n",
    "def get_stock_data(name, start_date=(datetime.datetime.today() - datetime.timedelta(weeks=8)).strftime('%Y-%m-%d'),\n",
    "                   end_date=datetime.datetime.today().strftime('%Y-%m-%d')):\n",
    "    data = pdr.get_data_yahoo(name, start_date, end_date)\n",
    "    return data\n",
    "\n",
    "def get_stock_name(name):\n",
    "    try:\n",
    "        stock_name = name\n",
    "        options = webdriver.ChromeOptions()\n",
    "        options.add_argument(\"headless\")\n",
    "        URL = 'https://www.naver.com/'\n",
    "        driver = webdriver.Chrome(executable_path='/Users/yh/Pycharm/Stuffs/chromedriver', options=options)\n",
    "        driver.get(url=URL)\n",
    "        driver.find_element_by_xpath('//*[@id=\"query\"]').send_keys(stock_name)\n",
    "        driver.find_element_by_xpath('//*[@id=\"search_btn\"]/span[2]').click()\n",
    "        item = []\n",
    "        item.append(driver.find_element_by_xpath('//*[@id=\"_cs_root\"]/div[1]/div/h3/a/span[1]').text)\n",
    "        item.append(driver.find_element_by_xpath('//*[@id=\"_cs_root\"]/div[1]/div/h3/a/em').text)\n",
    "        item.append(driver.find_element_by_xpath('//*[@id=\"_cs_root\"]/div[2]/div[2]/div/ul[1]/li[7]/a/dl/dt').text)\n",
    "        # print(item)\n",
    "        driver.quit()\n",
    "        if item[2] == '코스피':\n",
    "            item[2] = 'KS'\n",
    "        else:\n",
    "            item[2] = 'KQ'\n",
    "        item[1] = f'{item[1]}.{item[2]}'\n",
    "        return item[:2]\n",
    "    except:\n",
    "        logger.warning('검색에 실패했습니다.')\n",
    "\n",
    "stock_searched = get_stock_name(input())\n",
    "stock_df = get_stock_data(stock_searched[1])\n",
    "# logger.info(f'get_stock_data(stock_searched[1]) is \\n{stock_df}')\n",
    "\n",
    "fig, ax = plt.subplots()\n",
    "sns.lineplot(x=stock_df.index, y=stock_df['Close'], ax=ax)\n",
    "ax.yaxis.set_major_formatter(FormatStrFormatter('%.2f'))\n",
    "\n",
    "plt.xticks(rotation=30)\n",
    "plt.show()"
   ]
  },
  {
   "cell_type": "code",
   "execution_count": null,
   "id": "9ca70c17-69d9-41c0-9baf-894ff6a09d10",
   "metadata": {},
   "outputs": [],
   "source": [
    "aa\n"
   ]
  },
  {
   "cell_type": "code",
   "execution_count": null,
   "id": "b50fc3d6-21b1-4829-a48a-48a5738a6d8d",
   "metadata": {},
   "outputs": [],
   "source": []
  }
 ],
 "metadata": {
  "kernelspec": {
   "display_name": "Python 3 (ipykernel)",
   "language": "python",
   "name": "python3"
  },
  "language_info": {
   "codemirror_mode": {
    "name": "ipython",
    "version": 3
   },
   "file_extension": ".py",
   "mimetype": "text/x-python",
   "name": "python",
   "nbconvert_exporter": "python",
   "pygments_lexer": "ipython3",
   "version": "3.8.10"
  }
 },
 "nbformat": 4,
 "nbformat_minor": 5
}
