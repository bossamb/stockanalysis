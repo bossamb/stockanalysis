{
 "cells": [
  {
   "cell_type": "code",
   "execution_count": 39,
   "id": "81bd532b-57f2-40a9-b012-22a8eb6ead09",
   "metadata": {},
   "outputs": [],
   "source": [
    "import telegram\n",
    "import schedule\n",
    "import time\n",
    "from bs4 import BeautifulSoup as bs\n",
    "import requests\n",
    "\n",
    "\n"
   ]
  },
  {
   "cell_type": "code",
   "execution_count": 73,
   "id": "13011b20-7dc8-40a2-9a0e-41ca297653bf",
   "metadata": {},
   "outputs": [],
   "source": [
    "\n",
    "def get_headlines():\n",
    "    url = 'https://news.naver.com/main/home.naver'\n",
    "    headers = {\"User-Agent\": \"Mozilla/5.0 (Windows NT 10.0; Win64; x64) AppleWebKit/537.36\\\n",
    "                (KHTML, like Gecko) Chrome/87.0.4280.88 Safari/537.36\"}\n",
    "    response = requests.get(url, headers=headers)\n",
    "    html_text = response.text\n",
    "    soup = bs(html_text, 'html.parser')\n",
    "    \n",
    "\n",
    "#     for href in soup.find(\"ul\", class_=\"hdline_article_list\").find_all(\"li\"):\n",
    "#         print(href.find(\"a\")[\"href\"])\n",
    "\n",
    "    headlines = soup.find_all('div', {'class': 'hdline_article_tit'})\n",
    "    to_send = f\"{datetime.datetime.now().strftime('%Y-%m-%d %H')}시 HeadLine News \\n\"\n",
    "    for i in headlines:\n",
    "        to_send += f\"{i.get_text().strip()} \\n\\t : https://news.naver.com{i.find('a')['href']} \\n \" # 이후 url 추가!\n",
    "     \n",
    "    \n",
    "#     headlines = soup.find_all('div', {'class': 'hdline_article_tit'})\n",
    "        \n",
    "    return to_send\n"
   ]
  },
  {
   "cell_type": "code",
   "execution_count": 74,
   "id": "33bd1452-4384-4686-8967-d4b970c21b67",
   "metadata": {},
   "outputs": [
    {
     "name": "stdout",
     "output_type": "stream",
     "text": [
      "/main/read.naver?mode=LSD&mid=shm&sid1=101&oid=081&aid=0003211272\n",
      "/main/read.naver?mode=LSD&mid=shm&sid1=100&oid=366&aid=0000756517\n",
      "/main/read.naver?mode=LSD&mid=shm&sid1=100&oid=214&aid=0001143986\n",
      "/main/read.naver?mode=LSD&mid=shm&sid1=100&oid=032&aid=0003093827\n",
      "/main/read.naver?mode=LSD&mid=shm&sid1=100&oid=119&aid=0002523410\n"
     ]
    },
    {
     "data": {
      "text/plain": [
       "'2021-08-24 23시 HeadLine News \\n식지 않는 영끌·빚투…가계빚 1800조 넘어 \\n\\t : https://news.naver.com/main/read.naver?mode=LSD&mid=shm&sid1=101&oid=081&aid=0003211272 \\n 내년부터 한 가정에서 셋째부터 대학교 등록금 전액 지원 \\n\\t : https://news.naver.com/main/read.naver?mode=LSD&mid=shm&sid1=100&oid=366&aid=0000756517 \\n 육군서도 성추행·2차 가해…\"피해자 극단 선택 시도\" \\n\\t : https://news.naver.com/main/read.naver?mode=LSD&mid=shm&sid1=100&oid=214&aid=0001143986 \\n 국민의힘, ‘부동산 의혹’ 한무경 제명…5명 탈당 요구 \\n\\t : https://news.naver.com/main/read.naver?mode=LSD&mid=shm&sid1=100&oid=032&aid=0003093827 \\n 野 “윤미향 보호법” 비판에 윤미향 “피해자 보호법” \\n\\t : https://news.naver.com/main/read.naver?mode=LSD&mid=shm&sid1=100&oid=119&aid=0002523410 \\n '"
      ]
     },
     "execution_count": 74,
     "metadata": {},
     "output_type": "execute_result"
    }
   ],
   "source": [
    "get_headlines()"
   ]
  },
  {
   "cell_type": "code",
   "execution_count": 5,
   "id": "fc712b57-314f-45af-8bcc-921eefb14b6d",
   "metadata": {},
   "outputs": [
    {
     "name": "stdout",
     "output_type": "stream",
     "text": [
      "start telegram chat bot\n"
     ]
    },
    {
     "name": "stderr",
     "output_type": "stream",
     "text": [
      "<ipython-input-5-57aff7d93dc5>:22: TelegramDeprecationWarning: The argument `clean` of `start_polling` is deprecated. Please use `drop_pending_updates` instead.\n",
      "  updater.start_polling(timeout=3, clean=True)\n"
     ]
    }
   ],
   "source": [
    "from telegram.ext import Updater, MessageHandler, Filters  # import modules\n",
    "\n",
    "my_token = \"1941923189:AAEmoXlilPt2PpK2qXPH8-3Ya2bVH880ZXs\"\n",
    "\n",
    "print('start telegram chat bot')\n",
    "\n",
    "# message reply function\n",
    "def get_message(update, context):\n",
    "    if update.message.text == 'hi':\n",
    "        update.message.reply_text(\"said hi\")\n",
    "        update.message.reply_text(\"shshshshshshh\")\n",
    "    else:\n",
    "        update.message.reply_text(\"got text\")\n",
    "        update.message.reply_text(update.message.text)\n",
    "\n",
    "\n",
    "updater = Updater(my_token, use_context=True)\n",
    "\n",
    "message_handler = MessageHandler(Filters.text, get_message)\n",
    "updater.dispatcher.add_handler(message_handler)\n",
    "\n",
    "updater.start_polling(timeout=3, clean=True)\n",
    "updater.idle()\n"
   ]
  },
  {
   "cell_type": "code",
   "execution_count": null,
   "id": "3a283593-16b0-4a98-b3c3-eff5688e6717",
   "metadata": {},
   "outputs": [],
   "source": []
  }
 ],
 "metadata": {
  "kernelspec": {
   "display_name": "Python 3",
   "language": "python",
   "name": "python3"
  },
  "language_info": {
   "codemirror_mode": {
    "name": "ipython",
    "version": 3
   },
   "file_extension": ".py",
   "mimetype": "text/x-python",
   "name": "python",
   "nbconvert_exporter": "python",
   "pygments_lexer": "ipython3",
   "version": "3.8.8"
  }
 },
 "nbformat": 4,
 "nbformat_minor": 5
}
