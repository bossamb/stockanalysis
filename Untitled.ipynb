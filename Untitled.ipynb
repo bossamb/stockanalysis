{
 "cells": [
  {
   "cell_type": "code",
   "execution_count": 1,
   "id": "a9b50604-59f4-4b58-8210-47be0906e437",
   "metadata": {},
   "outputs": [],
   "source": [
    "import pandas_datareader.data as pdweb\n",
    "from pandas_datareader import data as pdr\n",
    "# import yfinance # must pip install first\n",
    "import seaborn as sns\n",
    "import matplotlib.pyplot as plt"
   ]
  },
  {
   "cell_type": "code",
   "execution_count": 2,
   "id": "474289cb-17cc-40b1-9130-c124de036bd3",
   "metadata": {},
   "outputs": [
    {
     "data": {
      "image/png": "[encoded data removed]",
      "text/plain": [
       "<Figure size 432x288 with 1 Axes>"
      ]
     },
     "metadata": {
      "needs_background": "light"
     },
     "output_type": "display_data"
    }
   ],
   "source": [
    "data = pdr.get_data_yahoo('005930.KS','2017-05-20','2021-08-16')\n",
    "sns.lineplot(x=data.index, y=data['Close'])\n",
    "plt.xticks(rotation=30)\n",
    "# plt.plot(data['Volume'])\n",
    "plt.show()"
   ]
  },
  {
   "cell_type": "code",
   "execution_count": 3,
   "id": "8d255e57-06ec-42cc-8729-58cd7b37bece",
   "metadata": {},
   "outputs": [],
   "source": [
    "import time"
   ]
  },
  {
   "cell_type": "code",
   "execution_count": 4,
   "id": "6b58ebbc-0fa9-4b78-9806-609aa5f9d0f2",
   "metadata": {},
   "outputs": [
    {
     "data": {
      "text/plain": [
       "'2021-08-16'"
      ]
     },
     "execution_count": 4,
     "metadata": {},
     "output_type": "execute_result"
    }
   ],
   "source": [
    "from datetime import datetime\n",
    "datetime.today().strftime('%Y-%m-%d')"
   ]
  },
  {
   "cell_type": "code",
   "execution_count": null,
   "id": "51dd6b15-70d0-4140-a964-a04e74de2983",
   "metadata": {},
   "outputs": [],
   "source": []
  },
  {
   "cell_type": "code",
   "execution_count": null,
   "id": "cd0438f0-c163-4864-8beb-4bbf2925aca4",
   "metadata": {},
   "outputs": [],
   "source": []
  },
  {
   "cell_type": "code",
   "execution_count": null,
   "id": "e755319e-9dec-4911-9e08-e756eec088bc",
   "metadata": {},
   "outputs": [],
   "source": []
  },
  {
   "cell_type": "code",
   "execution_count": 5,
   "id": "6f1e12a5-5b8a-4cbe-b72f-ce6549f0fa55",
   "metadata": {},
   "outputs": [
    {
     "name": "stdin",
     "output_type": "stream",
     "text": [
      "원하는 종목을 입력해주세요:  ㄴ\n",
      "원하는 종목을 입력해주세요:  ㄱ\n",
      "원하는 종목을 입력해주세요:  ㅁ\n"
     ]
    },
    {
     "name": "stdout",
     "output_type": "stream",
     "text": [
      "검색에 실패했습니다.\n"
     ]
    }
   ],
   "source": [
    "from selenium import webdriver\n",
    "count = 0\n",
    "while count <= 3:\n",
    "    try:\n",
    "        stock_name = input(\"원하는 종목을 입력해주세요: \")\n",
    "        options = webdriver.ChromeOptions()\n",
    "        options.add_argument(\"headless\")\n",
    "        URL = 'https://www.naver.com/'\n",
    "        driver = webdriver.Chrome(executable_path='/Users/yh/Pycharm/CrawlingLostArk/chromedriver', options=options)\n",
    "        driver.get(url=URL)\n",
    "        driver.find_element_by_xpath('//*[@id=\"query\"]').send_keys(stock_name)\n",
    "        driver.find_element_by_xpath('//*[@id=\"search_btn\"]/span[2]').click()\n",
    "        item = []\n",
    "        item.append(driver.find_element_by_xpath('//*[@id=\"_cs_root\"]/div[1]/div/h3/a/span[1]').text)\n",
    "        item.append(driver.find_element_by_xpath('//*[@id=\"_cs_root\"]/div[1]/div/h3/a/em').text)\n",
    "        item.append(driver.find_element_by_xpath('//*[@id=\"_cs_root\"]/div[2]/div[2]/div/ul[1]/li[7]/a/dl/dt').text)\n",
    "        print(item)\n",
    "        driver.quit()\n",
    "        break\n",
    "    except:\n",
    "        count += 1\n",
    "    if count == 3:\n",
    "        print('검색에 실패했습니다.')\n",
    "        break\n",
    "        \n",
    "\n",
    "# # Connecting server\n",
    "# received = getLevel(driver)\n",
    "# for d in received:\n",
    "#     print(d.text)\n",
    "# print(getLevel(driver))"
   ]
  },
  {
   "cell_type": "code",
   "execution_count": null,
   "id": "e2ecdad1-8d1d-4bfc-9dd6-c33f17e42bf0",
   "metadata": {},
   "outputs": [],
   "source": []
  }
 ],
 "metadata": {
  "kernelspec": {
   "display_name": "Python 3",
   "language": "python",
   "name": "python3"
  },
  "language_info": {
   "codemirror_mode": {
    "name": "ipython",
    "version": 3
   },
   "file_extension": ".py",
   "mimetype": "text/x-python",
   "name": "python",
   "nbconvert_exporter": "python",
   "pygments_lexer": "ipython3",
   "version": "3.8.8"
  }
 },
 "nbformat": 4,
 "nbformat_minor": 5
}
