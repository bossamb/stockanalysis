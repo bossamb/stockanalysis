{
 "cells": [
  {
   "cell_type": "code",
   "execution_count": 1,
   "id": "57e42034-680b-4b5b-8754-82aefdaa15ed",
   "metadata": {},
   "outputs": [],
   "source": [
    "import telegram\n",
    "from telegram.ext import Updater, MessageHandler, Filters\n",
    "import schedule\n",
    "import time\n",
    "from bs4 import BeautifulSoup as bs\n",
    "import requests\n",
    "import datetime\n",
    "import finance"
   ]
  },
  {
   "cell_type": "code",
   "execution_count": null,
   "id": "40fe91b5-5bcd-4df5-8815-4515cce47640",
   "metadata": {},
   "outputs": [],
   "source": [
    "\n",
    "    print('get_message_from_telegram')\n",
    "    updater = Updater(\"1941923189:AAEmoXlilPt2PpK2qXPH8-3Ya2bVH880ZXs\", use_context=True)\n",
    "    message_handler = MessageHandler(Filters.text, get_message)\n",
    "    updater.dispatcher.add_handler(message_handler)\n",
    "    updater.start_polling() # Start wating\n",
    "    update.idle()"
   ]
  }
 ],
 "metadata": {
  "kernelspec": {
   "display_name": "Python 3",
   "language": "python",
   "name": "python3"
  },
  "language_info": {
   "codemirror_mode": {
    "name": "ipython",
    "version": 3
   },
   "file_extension": ".py",
   "mimetype": "text/x-python",
   "name": "python",
   "nbconvert_exporter": "python",
   "pygments_lexer": "ipython3",
   "version": "3.8.8"
  }
 },
 "nbformat": 4,
 "nbformat_minor": 5
}
